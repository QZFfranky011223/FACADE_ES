{
  "nbformat": 4,
  "nbformat_minor": 0,
  "metadata": {
    "colab": {
      "name": "Untitled1.ipynb",
      "provenance": [],
      "toc_visible": true,
      "include_colab_link": true
    },
    "kernelspec": {
      "name": "python2",
      "display_name": "Python 2"
    }
  },
  "cells": [
    {
      "cell_type": "markdown",
      "metadata": {
        "id": "view-in-github",
        "colab_type": "text"
      },
      "source": [
        "<a href=\"https://colab.research.google.com/github/QZFfranky011223/FACADE_ES/blob/master/Untitled1.ipynb\" target=\"_parent\"><img src=\"https://colab.research.google.com/assets/colab-badge.svg\" alt=\"Open In Colab\"/></a>"
      ]
    },
    {
      "metadata": {
        "id": "LtmMnLUG0U6L"
      },
      "cell_type": "code",
      "source": [],
      "execution_count": 7,
      "outputs": []
    },
    {
      "metadata": {
        "id": "iH1oEngB02Zv"
      },
      "cell_type": "code",
      "source": [
        "!pip install --upgrade -q gspread"
      ],
      "execution_count": 1,
      "outputs": []
    },
    {
      "metadata": {
        "id": "6UbkNzJn1Um3",
        "colab": {
          "base_uri": "https://localhost:8080/"
        },
        "outputId": "4be9cdf3-a41f-4cb9-81aa-e29ba9fbba58"
      },
      "cell_type": "code",
      "source": [
        "from google.colab import auth\n",
        "auth.authenticate_user()\n",
        "\n",
        "import gspread\n",
        "from google.auth import default\n",
        "\n",
        "# Get credentials using google.auth.default()\n",
        "creds, _ = default()\n",
        "\n",
        "# Authorize gspread with the obtained credentials\n",
        "gc = gspread.authorize(creds)\n",
        "\n",
        "sh = gc.create('A new spreadsheet')\n",
        "\n",
        "# Open our new sheet and add some data.\n",
        "worksheet = gc.open('A new spreadsheet').sheet1\n",
        "\n",
        "cell_list = worksheet.range('A1:C2')\n",
        "\n",
        "import random\n",
        "for cell in cell_list:\n",
        "  cell.value = random.randint(1, 10)\n",
        "\n",
        "worksheet.update_cells(cell_list)\n",
        "# Go to https://sheets.google.com to see your new spreadsheet."
      ],
      "execution_count": 9,
      "outputs": [
        {
          "output_type": "execute_result",
          "data": {
            "text/plain": [
              "{'spreadsheetId': '1aPXBJaqCOsggNemRJVALZh4rnMbsaahnaMUlCuQEaok',\n",
              " 'updatedRange': \"'Hoja 1'!A1:C2\",\n",
              " 'updatedRows': 2,\n",
              " 'updatedColumns': 3,\n",
              " 'updatedCells': 6}"
            ]
          },
          "metadata": {},
          "execution_count": 9
        }
      ]
    },
    {
      "metadata": {
        "id": "XKxzbrsy1Ulk"
      },
      "cell_type": "code",
      "source": [
        "!pip install --upgrade -q gspread"
      ],
      "execution_count": 10,
      "outputs": []
    },
    {
      "cell_type": "markdown",
      "source": [
        "# Nueva sección"
      ],
      "metadata": {
        "id": "npcbuPjTnIPy"
      }
    }
  ]
}